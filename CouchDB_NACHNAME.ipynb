{
 "cells": [
  {
   "cell_type": "markdown",
   "id": "78d6566c-ce1f-4252-95fb-0d48679f93f1",
   "metadata": {},
   "source": [
    "# Evaluierung von NoSQL-Datenbanksystemen\n",
    "# CouchDB\n",
    "## Klemens Bayr BSc., Ivo Hufnagl BSc., Nadine Pribil BSc."
   ]
  },
  {
   "cell_type": "markdown",
   "id": "7b100dc2-85e6-4e49-9a10-0308a1857224",
   "metadata": {},
   "source": [
    "### To Delete Later !!!\n",
    "Ausmaß gleich einem 20 minütigen Referats!\n",
    "Beispiele können aus dem Internet sein, aber müssen getestet werden - nach DB Installation müssen diese ausführbar sein!"
   ]
  },
  {
   "cell_type": "markdown",
   "id": "ec1042f0-8ab7-4b61-b95c-dfff551a1c20",
   "metadata": {},
   "source": [
    "## 1. Kurzbeschreibung CouchDB"
   ]
  },
  {
   "cell_type": "markdown",
   "id": "61359534-c91e-43c0-bd61-b007ddc0c9da",
   "metadata": {},
   "source": [
    "### 1.1. Was ist das Spezielle an der Datenbank?"
   ]
  },
  {
   "cell_type": "markdown",
   "id": "9a076a80-432c-4bf1-8f71-de40b80dd76b",
   "metadata": {},
   "source": [
    "Allgemein:\n",
    "Bei CouchDB handelt es sich um eine NoSQL Datenbank und ist dementsprechend dokumentenorientiert. CouchDB ist in erster Linie mit \"Erlang\" programmiert worden und als Skriptsprache wird \"JavaScript\" verwendet. Das Konzept hinter dieser DB ist es, die leichte Struktur der NoSQL DB, mit der Skalierbarkeit und Stärke einer relationalen DB (RDBM) zu vereinen. Der Ansatz basiert auf Schlüssel-/Wert Paaren, Map/Reduce-Algorithmen und Versionierung.\n",
    "\n",
    "Einsatzbeispiele:\n",
    "1. CERN: CouchDB wird zum Beispiel beim CERN in Genf verwendet, denn beim \"Large Hadron Collider\" (ein Teilchenbeschleuniger am Europäischen Kernforschungszetrum CERN) werden jedes Jahr ca. 10 PB Daten generiert. \n",
    "2. Internationales Rotes Kreuz: CouchDB wird auch beim Disaster Action Team des Internationalen Roten Kreuz hinter einer mobilen Anwendung (iDAT) verwendet. Dadurch wird ein fehlertoleranter Betrieb bei eingeschränkter Netzverfügbarkeit ermöglicht.\n",
    "3. Weitere Einsatzbeispiele: United Airlines, IBM, Facebook, BBC, ...\n",
    "\n",
    "Eigenschaften:\n",
    "Zu den wichtigsten Eigenschaften der NoSQL Datenbank zählen die Architektur, der Zugriff, sowie die Schnittstellen (direkte und indirekte), MapReduce, Multiversion Concurrency Control (Versionierung) und Merge-Replikation.\n",
    "\n",
    "- Architektur:\n",
    "Die Speicherung in der DB erfolgt nicht wie in RDBMs in Tabellen, Zeilen ud Spalten - sondern in Dokumenten. Diese beinhalten dann JSON-Objekte oder noch bei sehr alten Versionen, XML.\n",
    "\n",
    "- Zugriff und Schnittstellen:\n",
    "Auf die Daten wird mittels einer REST-HTTP-Schnittstelle zugegriffen. \n",
    "Indirket: JavaScript, PHP oder Python -> Bibliotheken für eine standardisiertere Arbeitsweise.\n",
    "Direkt: Direkte Datensendung an Browser, ohne einem Webserver. -> Mit Ajax ist es möglich weitere Daten nachzuschiekn und an das DOM anzubinden. \n",
    "\n",
    "- MapReduce:\n",
    "Filter werden gleichzeitig über MapReduce und nicht während der eigentliche Query abgearbeitet. Zudem ist es möglich, dass Abfragen Funktionen beinhalten, die während der Query ausgeführt werden.\n",
    "\n",
    "CouchDB kann komplett eigenständig verwendet werden, da die Datenbank ohne Hilfe seine Webserver Dokumente an den Browser schicken kann. Zusätzliche Software wie zum Beispiel Webserver oder zusätzliche Skriptsprachen (z.B. PHP) sind deswegen nicht notwendig. Ergänzend zu CouchDB kann jedoch aber \"Fauxton\" oder \"Couchapp\" verwendet werden - das erste ein Web-Interface zur Erleichterung der Administration, das zweite ein integriertes Webframework für JQuery - Bibliotheken (Evently, Mustache, Patchbinder, Markdown und CouchApp Loader). Zuletzt könnte noch \"PouchDB\" zusätzlich verwendet werden - dies ist eine mit der CouchDB API-Kompatible DB mit JavaScript.\n",
    "\n",
    "Irrtümlich wird CouchDB manchmal mit der Datenbank \"Bigtable\" verglichen. Dies ist jedoch falsch, da es sich bei \"Bigtable\" um einen spaltenorientierten Speicher handelt und CouchDB diesen nicht hat. CouchDB kann nämlich innerhalb einer DB verschiedene Dokumente mit unterschiedlichen Strukturen haben."
   ]
  },
  {
   "cell_type": "markdown",
   "id": "6711d290-eca3-4b4d-b6af-a840446b6b92",
   "metadata": {},
   "source": [
    "### 1.2. Wo findet man Unterlagen?"
   ]
  },
  {
   "cell_type": "markdown",
   "id": "e8810752-1a49-45f8-9c94-81509f6a0f9d",
   "metadata": {},
   "source": [
    "Mehr zu CouchDB, der Entwicklungsgeschichte und weiteren Details zu Eigenschaften (Multiversion Concurrency Control oder Merge-Replikation) kann unter diesen Links nachgelesen werden:\n",
    "- https://de.wikipedia.org/wiki/CouchDB\n",
    "- https://docplayer.org/9018769-Einfuehrung-in-couchdb.html\n",
    "\n",
    "Mehr zur Installation und Basic CouchDB Operationen kann hier nachgelesen werden:\n",
    "- https://www.analyticsvidhya.com/blog/2022/07/introduction-to-apache-couchdb-using-python/\n",
    "\n",
    "Mehr zu Design-Considerations kann bei diesen Link nachgelesen werden:\n",
    "- https://docs.couchdb.org/en/3.2.2-docs/best-practices/documents.html\n",
    "\n",
    "Hier können noch zwei sehr gute Dokus zur Verwendung von CouchDB und Python gelesen werden:\n",
    "- https://couchdb-python.readthedocs.io/en/latest/getting-started.html\n",
    "- https://couchdb-python.readthedocs.io/en/latest/client.html"
   ]
  },
  {
   "cell_type": "markdown",
   "id": "3389793a-c426-45fa-aa99-162eb3878972",
   "metadata": {},
   "source": [
    "### 1.3. Worfür wird sie verwendet?\n",
    "(typische Anwendungsbereiche)"
   ]
  },
  {
   "cell_type": "markdown",
   "id": "5caee43d-3e20-4b7e-b325-6056d878ee4d",
   "metadata": {},
   "source": []
  },
  {
   "cell_type": "markdown",
   "id": "094df3ca-4d00-43fb-a59d-5b83095f2573",
   "metadata": {},
   "source": [
    "### 1.4. Wo liegen die Stärken/Schwächen?"
   ]
  },
  {
   "cell_type": "markdown",
   "id": "26936d3e-2d16-4816-af52-c22f40f8e3e6",
   "metadata": {},
   "source": []
  },
  {
   "cell_type": "markdown",
   "id": "496744ed-a7ca-4bbe-9c46-00f40495822f",
   "metadata": {},
   "source": [
    "### 1.5. Wie wird sie installiert?\n",
    "(Voraussetzungen, Besonderheiten, (Link auf) Installationsanleitung) - falls verfügbar, für direkte Installation und für Docker abgeben."
   ]
  },
  {
   "cell_type": "markdown",
   "id": "c1c8c298-8206-4230-a43d-1590b2723a67",
   "metadata": {},
   "source": []
  },
  {
   "cell_type": "markdown",
   "id": "31b6a232-ff0b-4eb7-bfbd-5b17c1a35ff2",
   "metadata": {},
   "source": [
    "### 1.6. Dokumentation\n",
    "(Link)"
   ]
  },
  {
   "cell_type": "markdown",
   "id": "c53cccb2-2542-45bb-9552-ec697e065b65",
   "metadata": {},
   "source": []
  },
  {
   "cell_type": "markdown",
   "id": "c0a0b85e-a4a5-4796-967f-7162e7a6f46d",
   "metadata": {},
   "source": [
    "### 1.7. Sonstiges\n",
    "alles, was sonst noch als wichtig erachtet wird"
   ]
  },
  {
   "cell_type": "markdown",
   "id": "5d7436d2-67c4-44d9-b42d-63d8a5d9ac0e",
   "metadata": {},
   "source": []
  },
  {
   "cell_type": "markdown",
   "id": "818c9689-21d8-4735-82a2-73e613ca682b",
   "metadata": {},
   "source": [
    "## 2. Praktisches Beispiel\n",
    "Phyton-Code mit Kommentaren"
   ]
  },
  {
   "cell_type": "markdown",
   "id": "3fd32ca0-71f4-4c60-99ec-d67a112b46f2",
   "metadata": {},
   "source": [
    "### 2.1. Wie kann die DB angesprochen werden?\n",
    "Libraries"
   ]
  },
  {
   "cell_type": "code",
   "execution_count": null,
   "id": "8d3eb611-8606-4e89-85a5-0ddbaf4ae20c",
   "metadata": {},
   "outputs": [],
   "source": []
  },
  {
   "cell_type": "markdown",
   "id": "104832b9-dd3b-4df9-b9a2-66d3a09673cd",
   "metadata": {},
   "source": [
    "### 2.2. Schreiben in die DB"
   ]
  },
  {
   "cell_type": "code",
   "execution_count": null,
   "id": "7637e5d6-f86e-482f-a781-c9cf73cec0dd",
   "metadata": {},
   "outputs": [],
   "source": []
  },
  {
   "cell_type": "markdown",
   "id": "2a7a177b-3696-4202-ad08-2de732e49dde",
   "metadata": {},
   "source": [
    "### 2.3. Lesen aus der DB"
   ]
  },
  {
   "cell_type": "code",
   "execution_count": null,
   "id": "517d6426-4f71-4958-b152-1cfc89648eba",
   "metadata": {},
   "outputs": [],
   "source": []
  },
  {
   "cell_type": "markdown",
   "id": "cb3c9848-0197-4f7e-b670-f2cbd3d72ba0",
   "metadata": {},
   "source": [
    "### 2.4. Codebeispiele\n",
    "Links"
   ]
  },
  {
   "cell_type": "code",
   "execution_count": null,
   "id": "d82155bf-55aa-425e-87a1-60140fbe0197",
   "metadata": {},
   "outputs": [],
   "source": []
  }
 ],
 "metadata": {
  "kernelspec": {
   "display_name": "Python 3 (ipykernel)",
   "language": "python",
   "name": "python3"
  },
  "language_info": {
   "codemirror_mode": {
    "name": "ipython",
    "version": 3
   },
   "file_extension": ".py",
   "mimetype": "text/x-python",
   "name": "python",
   "nbconvert_exporter": "python",
   "pygments_lexer": "ipython3",
   "version": "3.9.12"
  }
 },
 "nbformat": 4,
 "nbformat_minor": 5
}
