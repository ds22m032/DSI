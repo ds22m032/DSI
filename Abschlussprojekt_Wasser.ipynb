{
 "cells": [
  {
   "cell_type": "markdown",
   "id": "290ba113-fd34-452f-85d6-0ad769630bfc",
   "metadata": {},
   "source": [
    "#DSI-Abschlussprojekt\n",
    "#Weltmeere - Auswirkung von Wassertemperatur und Salzgehalt"
   ]
  },
  {
   "cell_type": "markdown",
   "id": "f004629d-4b08-44da-b33d-bde8f57299e0",
   "metadata": {},
   "source": [
    "##Gruppenmitglieder\n",
    "Bayr Klemens, BSc.\n",
    "Hufnagl Ivo, BSc.\n",
    "Pribil Nadine BSc."
   ]
  },
  {
   "cell_type": "markdown",
   "id": "e3157639-f040-4061-bd03-c6c24b558288",
   "metadata": {},
   "source": [
    "##Geplante Datenquellen\n",
    "- Flatfiles\n",
    "- API von ESA\n",
    "- https://climate.esa.int/de/odp/#/dashboard"
   ]
  },
  {
   "cell_type": "markdown",
   "id": "b2f3459c-346a-4c3e-8311-c3de27c6625d",
   "metadata": {},
   "source": [
    "##Geplante Datensicherung\n",
    "- GIT Repository\n",
    "- Datenbanksicherung"
   ]
  },
  {
   "cell_type": "markdown",
   "id": "0676c078-0af0-409f-a1dd-5259f0010faa",
   "metadata": {},
   "source": [
    "##Geplante Vorgehensweise"
   ]
  },
  {
   "cell_type": "markdown",
   "id": "d4dcbb0a-e806-48ed-8807-6050642833d1",
   "metadata": {},
   "source": [
    "###Schritt 1: Datenfindung\n",
    "Recherche von ..."
   ]
  },
  {
   "cell_type": "markdown",
   "id": "68504ed3-aeca-4c5e-a3d4-6dab119cb20c",
   "metadata": {},
   "source": [
    "###Schritt 2: Datenbeschaffung\n",
    "Mindestens 2 verschiedene Datenquellen, die miteinander verbunden sind."
   ]
  },
  {
   "cell_type": "markdown",
   "id": "7d4ca255-8b3a-45a0-96c7-fe548c7511eb",
   "metadata": {},
   "source": [
    "###Schritt 3: Datenanalyse\n",
    "Die Daten wollen wir in eine Datenbank spielen. Eventuell CouchDB. Die Daten werden wir mit Kafka bereitstellen und für die Analyse wird dann SparkSQL verwendet."
   ]
  },
  {
   "cell_type": "markdown",
   "id": "b51bb136-e94b-4963-90eb-3602cef3992a",
   "metadata": {},
   "source": [
    "###Schritt 4: Ergebnisdarstellung\n",
    "Die erwarteten Ergebnisse werden mit Grafiken veranschaulicht. Diese werden wir mit Phyton erstellen."
   ]
  },
  {
   "cell_type": "markdown",
   "id": "ce7e04a6-51ae-47d4-917f-0888fc8aa17d",
   "metadata": {},
   "source": [
    "##Weitere Eckpunkte\n",
    "- Speichern / Lesen / Verarbeiten der Daten mit einer Datenbank (relational oder NoSQL)\n",
    "- Kafka für die Bereitstellung der Daten verwenden (zumindest einen Teil, Kafka Producer, Kafka Consumer)\n",
    "- Spark für Datenhandling/analyse verwenden.\n",
    "- Abbildung von MapReduce mit Spark RDDs.\n",
    "- SparkSQL mindestens einmal verwenden.\n",
    "- Spark Dataframes verwenden."
   ]
  },
  {
   "cell_type": "markdown",
   "id": "652134a7-5b48-4ae4-85fe-126be0329225",
   "metadata": {},
   "source": [
    "##Meilensteine\n",
    "1. 14.12.2022: Präsentation des Themas und der Vorgehensweise.\n",
    "2. 21.12.2022: Zwischenabgabe des Projekts und Feedback-Einholung.\n",
    "3. 25.01.2023: Abgabe und Präsentation der Endergebnisse."
   ]
  },
  {
   "cell_type": "markdown",
   "id": "a88a1da8-2a76-4564-be41-4a7d4eb1d532",
   "metadata": {},
   "source": [
    "##Erwarteter Output\n",
    "Grafiken..."
   ]
  },
  {
   "cell_type": "code",
   "execution_count": null,
   "id": "589fc544-0b3e-4872-8ab6-54cd50d60d81",
   "metadata": {},
   "outputs": [],
   "source": [
    "pip install kafka"
   ]
  },
  {
   "cell_type": "code",
   "execution_count": null,
   "id": "ccf161fe-6739-4dd0-afaf-db65d866f426",
   "metadata": {},
   "outputs": [],
   "source": []
  }
 ],
 "metadata": {
  "kernelspec": {
   "display_name": "Python 3 (ipykernel)",
   "language": "python",
   "name": "python3"
  },
  "language_info": {
   "codemirror_mode": {
    "name": "ipython",
    "version": 3
   },
   "file_extension": ".py",
   "mimetype": "text/x-python",
   "name": "python",
   "nbconvert_exporter": "python",
   "pygments_lexer": "ipython3",
   "version": "3.9.12"
  }
 },
 "nbformat": 4,
 "nbformat_minor": 5
}
